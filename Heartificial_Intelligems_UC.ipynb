{
 "cells": [
  {
   "cell_type": "code",
   "execution_count": 1,
   "id": "2adf25af",
   "metadata": {},
   "outputs": [
    {
     "name": "stdout",
     "output_type": "stream",
     "text": [
      "Collecting python-dotenv\n",
      "  Downloading python_dotenv-0.21.0-py3-none-any.whl (18 kB)\n",
      "Installing collected packages: python-dotenv\n",
      "Successfully installed python-dotenv-0.21.0\n",
      "Note: you may need to restart the kernel to use updated packages.\n"
     ]
    },
    {
     "data": {
      "text/plain": [
       "False"
      ]
     },
     "execution_count": 1,
     "metadata": {},
     "output_type": "execute_result"
    }
   ],
   "source": [
    "import os\n",
    "%pip install python-dotenv\n",
    "from dotenv import load_dotenv\n",
    "load_dotenv()"
   ]
  },
  {
   "cell_type": "code",
   "execution_count": 2,
   "id": "e0a4fdd3",
   "metadata": {},
   "outputs": [],
   "source": [
    "uri = os.getenv('NEO4J_URI')\n",
    "user = os.getenv('NEO4J_USERNAME')\n",
    "password = os.getenv('NEO4J_PASSWORD')\n",
    "uri = 'neo4j+s://dd89a1a3.databases.neo4j.io'\n",
    "user = 'neo4j'\n",
    "password = 'THISo5HX0Nln82fNicQE_Xe8uoX2dHnhonqDcHnnkdQXADD'"
   ]
  },
  {
   "cell_type": "code",
   "execution_count": 3,
   "id": "0c37b178",
   "metadata": {},
   "outputs": [
    {
     "name": "stdout",
     "output_type": "stream",
     "text": [
      "neo4j+s://dd89a1a3.databases.neo4j.io\n",
      "neo4j\n",
      "ISo5HX0Nln82fNicQE_Xe8uoX2dHnhonqDcHnnkdQXA\n"
     ]
    }
   ],
   "source": [
    "print(uri)\n",
    "print(user)\n",
    "print(password)"
   ]
  },
  {
   "cell_type": "code",
   "execution_count": 4,
   "id": "e1d3d6bc",
   "metadata": {},
   "outputs": [
    {
     "name": "stdout",
     "output_type": "stream",
     "text": [
      "Collecting neo4j\n",
      "  Downloading neo4j-5.1.0.tar.gz (173 kB)\n",
      "Requirement already satisfied: pytz in c:\\users\\z001msvk\\anaconda3\\lib\\site-packages (from neo4j) (2021.3)\n",
      "Building wheels for collected packages: neo4j\n",
      "  Building wheel for neo4j (setup.py): started\n",
      "  Building wheel for neo4j (setup.py): finished with status 'done'\n",
      "  Created wheel for neo4j: filename=neo4j-5.1.0-py3-none-any.whl size=248097 sha256=e1af88d443a9f925eb8ad95ef019db9c7dcb08bbbd82189ff752a7b019bd74ef\n",
      "  Stored in directory: c:\\users\\z001msvk\\appdata\\local\\pip\\cache\\wheels\\9a\\32\\2b\\c4c61e6c87898370c1e1170229f304b3035dcebc630fdff55f\n",
      "Successfully built neo4j\n",
      "Installing collected packages: neo4j\n",
      "Successfully installed neo4j-5.1.0\n",
      "Note: you may need to restart the kernel to use updated packages.\n"
     ]
    }
   ],
   "source": [
    "%pip install neo4j"
   ]
  },
  {
   "cell_type": "code",
   "execution_count": 5,
   "id": "e8f4f1c6",
   "metadata": {},
   "outputs": [],
   "source": [
    "from neo4j import GraphDatabase\n",
    "import logging\n",
    "from neo4j.exceptions import ServiceUnavailable"
   ]
  },
  {
   "cell_type": "code",
   "execution_count": 6,
   "id": "3b8c1f05",
   "metadata": {},
   "outputs": [],
   "source": [
    "class App:\n",
    "\n",
    "    def __init__(self, uri, user, password):\n",
    "        self.driver = GraphDatabase.driver(uri, auth=(user, password))\n",
    "\n",
    "    def close(self):\n",
    "        # Don't forget to close the driver connection when you are finished with it\n",
    "        self.driver.close()\n",
    "\n",
    "    #Vishnu: 1 Aug 2022: uses labels instead of properties\n",
    "    #Vishnu: 1 Aug 2022: Invariant: only 1 actor with 1 name.\n",
    "    #        (Note that rel still uses properties and not labels)\n",
    "    def create_node_with_usecase_label(self, actor_name, usecase_id):\n",
    "        with self.driver.session() as session:\n",
    "            node_already_exists = session.read_transaction(\n",
    "                self._find_and_return_existing_node_label, actor_name)\n",
    "            if not node_already_exists:  \n",
    "                #node itself doesnt exist (not to mention the use case label), Lets add.\n",
    "                result = session.write_transaction(\n",
    "                    self._create_and_return_node_label, actor_name, usecase_id)\n",
    "                for row in result:\n",
    "                    print(\"Created node: {n1}\".format(n1=row['n1name']))\n",
    "            else:\n",
    "                for row in node_already_exists:\n",
    "                    print(\"Node already exists: {name} in {usecase}\".format(name=row['n1name'], \n",
    "                                                                 usecase=row['n1usecase']))\n",
    "                    if not (usecase_id in row['n1usecase']):\n",
    "                      print(\"adding label \"\n",
    "                                +usecase_id+ \n",
    "                                \" in addition to {usecase}\".format(usecase=row['n1usecase']))\n",
    "                      result = session.write_transaction(\n",
    "                                self._add_usecase_and_return_existing_node_label, actor_name, usecase_id)\n",
    "                    else:\n",
    "                      print(\"ignoring ...\")\n",
    "                    #row has only 1 entry due to invariant. So break here. and exit f()\n",
    "                    break\n",
    "    \n",
    "    #Vishnu: 1 Aug 2022: created this f() to query nodes based on a name\n",
    "    #                    and return with usecase labels\n",
    "    @staticmethod\n",
    "    def _find_and_return_existing_node_label(tx, actor_name):\n",
    "        query = (\n",
    "            \"MATCH (n1) \"\n",
    "            \"WHERE (n1.name ='\" + actor_name + \"') \"\n",
    "            \"RETURN n1.name as n1name, labels(n1) as n1usecase\"\n",
    "        )\n",
    "        result = tx.run(query)\n",
    "        try:\n",
    "            return [{\"n1name\": row[\"n1name\"],\"n1usecase\": row[\"n1usecase\"]} \n",
    "                    for row in result]\n",
    "        # Capture any errors along with the query and data for traceability\n",
    "        except ServiceUnavailable as exception:\n",
    "            logging.error(\"{query} raised an error: \\n {exception}\".format(\n",
    "                query=query, exception=exception))\n",
    "            raise\n",
    "\n",
    "    #Vishnu: 1 Aug 2022: created this f() to create nodes with usecase label\n",
    "    @staticmethod\n",
    "    def _create_and_return_node_label(tx, actor_name, usecase_id):\n",
    "            query = (\n",
    "            \"CREATE (n1 :\" + usecase_id + \" { name: '\" + actor_name + \"'}) \"\n",
    "            \"RETURN n1\"\n",
    "            )\n",
    "            result = tx.run(query, actor_name=actor_name)\n",
    "            try:\n",
    "                return [{\"n1name\": row[\"n1\"][\"name\"]}\n",
    "                        for row in result]\n",
    "            # Capture any errors along with the query and data for traceability\n",
    "            except ServiceUnavailable as exception:\n",
    "                logging.error(\"{query} raised an error: \\n {exception}\".format(\n",
    "                    query=query, exception=exception))\n",
    "                raise\n",
    "\n",
    "    #Vishnu: 1 Aug 2022: created this f() to add use case labels to existing nodes\n",
    "    #                    Note that the existing labels are left there.\n",
    "    @staticmethod\n",
    "    def _add_usecase_and_return_existing_node_label(tx, actor_name, usecase_id):\n",
    "        query = (\n",
    "            \"MATCH \"\n",
    "            \"(n1) \"\n",
    "            \"WHERE n1.name = '\" + actor_name +\"' \"\n",
    "            \"set n1 :\" + usecase_id +\" \"\n",
    "            \"return n1\"\n",
    "        )\n",
    "        result = tx.run(query, actor_name=actor_name)\n",
    "        try:\n",
    "            return [{\"n1\": row[\"n1\"][\"name\"]}\n",
    "                    for row in result]\n",
    "        # Capture any errors along with the query and data for traceability\n",
    "        except ServiceUnavailable as exception:\n",
    "            logging.error(\"{query} raised an error: \\n {exception}\".format(\n",
    "                query=query, exception=exception))\n",
    "            raise\n",
    "\n",
    "    #Vishnu: 1 Aug 2022: created this f() to return all use case actors based on labels\n",
    "    #                    as against properties\n",
    "    @staticmethod\n",
    "    def _find_and_return_all_usecase_actors_label(tx, usecase_id):\n",
    "        query = (\n",
    "            \"MATCH (n) \"\n",
    "            \"WHERE '\" +usecase_id+ \"' in labels(n) \"\n",
    "            \"RETURN n.name AS name\"\n",
    "        )\n",
    "        result = tx.run(query)\n",
    "        return [row[\"name\"] for row in result]\n",
    "\n",
    "    #Vishnu: 1 Aug 2022: created this f() to list all nodes with usecase label\n",
    "    #                    instead of properties\n",
    "    def find_all_usecase_actors_label(self, usecase_id):\n",
    "        with self.driver.session() as session:\n",
    "            result = session.read_transaction(self._find_and_return_all_usecase_actors_label, usecase_id)\n",
    "            i=0\n",
    "            for row in result:\n",
    "                i=i+1\n",
    "                print(\"Found actor-\"+ str(i) +\": {row}\".format(row=row))\n",
    "\n",
    "    #Vishnu: 1 Aug 2022: Created to use label for use case.\n",
    "    #CAUTION: Assumes that actors already exists with label as use case.\n",
    "    #So, this has to be called only in conjunction with create_node_with_usecase\n",
    "    #otherwise you may end up with actors not having use case prop\n",
    "    #but rels will have use case prop. not a good idea.\n",
    "    def create_rel_with_usecase_label(self, actor1_name, rel_name, actor2_name, usecase_id):\n",
    "        with self.driver.session() as session:\n",
    "            this_rel_already_exists = session.read_transaction(\n",
    "                self._find_and_return_this_existing_rels, actor1_name, rel_name, actor2_name, usecase_id)\n",
    "            if (this_rel_already_exists):\n",
    "                print(rel_name + \" already exists with \"+ usecase_id + \" between \"+ actor1_name + \" and \"+ actor2_name)\n",
    "                return\n",
    "            else:\n",
    "                #we are pretty sure something didnt match\n",
    "                #this relation does not exist currently between the nodes under the use case, \n",
    "                #add it.\n",
    "                result3 = session.write_transaction(\n",
    "                    self._create_and_return_rel_label, actor1_name, rel_name, actor2_name, usecase_id)\n",
    "                #if (not retult3)\n",
    "                for row in result3:\n",
    "                    print(\"Created relation: {actor1} - {rel} - {actor2} in {usecase}\".\n",
    "                            format(actor1=row['n1name'], \n",
    "                            rel=row['r1name'],\n",
    "                            actor2=row['n2name'],\n",
    "                            usecase=row['r1usecase']))\n",
    "\n",
    "    #Vishnu: 1 Aug 2022 \n",
    "    #assumption: nodes already exist\n",
    "    #modified from _create_and_return_rel to use labels for n.usecase\n",
    "    @staticmethod\n",
    "    def _create_and_return_rel_label(tx, actor1_name, rel_name, actor2_name, usecaseid):\n",
    "            query = (\n",
    "            \"MATCH \"\n",
    "            \"(n1), \"\n",
    "            \"(n2) \"\n",
    "            \"WHERE n1.name = '\" + actor1_name + \"' AND n2.name = '\"+actor2_name+\"' \"\n",
    "            \" AND '\"+ usecaseid+\"' in labels(n1) \"\n",
    "            \" AND '\"+ usecaseid+\"' in labels(n2) \"\n",
    "            \"CREATE (n1)-[r1:Relation \" + \"{name: '\"+rel_name+\"', usecase: '\"+usecaseid+\"'} ]->(n2) \"\n",
    "            \"RETURN n1, r1, n2\"\n",
    "            )\n",
    "            result = tx.run(query)\n",
    "            try:\n",
    "                return [{\"n1name\": row[\"n1\"][\"name\"], \n",
    "                        \"r1name\": row[\"r1\"][\"name\"],\n",
    "                        \"n2name\": row[\"n2\"][\"name\"],\n",
    "                        \"r1usecase\": row[\"r1\"][\"usecase\"]}\n",
    "                        for row in result]\n",
    "            # Capture any errors along with the query and data for traceability\n",
    "            except ServiceUnavailable as exception:\n",
    "                logging.error(\"{query} raised an error: \\n {exception}\".format(\n",
    "                    query=query, exception=exception))\n",
    "                raise\n",
    "\n",
    "    #Vishnu: 1 Aug 2022: This approach uses properties instead of labels for n.usecases.\n",
    "    #Vishnu: 1 Aug 2022: Invariant: only 1 actor with 1 name.\n",
    "    #Vishnu: 22 Jun 2022: refactored, uses properties instead of labels\n",
    "    #Vishnu: 1 Jun 2022: created this f() to create nodes with usecase label\n",
    "    #Vishnu: 2 Jun 2022: added- check if it already exists.\n",
    "    #Vishnu: 2 Jun 2022: added- check the usecase duplication, adds a usecase if it doesnt exist.\n",
    "    #otherwise ignores the command.\n",
    "    def create_node_with_usecase(self, actor_name, usecase_id):\n",
    "        with self.driver.session() as session:\n",
    "            node_already_exists = session.read_transaction(\n",
    "                self._find_and_return_existing_node, actor_name)\n",
    "            if not node_already_exists:  \n",
    "                result = session.write_transaction(\n",
    "                    self._create_and_return_node, actor_name, usecase_id)\n",
    "                for row in result:\n",
    "                    print(\"Created node: {n1}\".format(n1=row['n1name']))\n",
    "            else:\n",
    "                for row in node_already_exists:\n",
    "                    print(\"Node already exists: {name} in {usecase}\".format(name=row['n1name'], \n",
    "                                                                 usecase=row['n1usecase']))\n",
    "                    s=row['n1usecase'].split(',')\n",
    "                    if not (usecase_id in s):\n",
    "                      print(\"adding prop \"+usecase_id+ \" in addition to \"+row['n1usecase'])\n",
    "                      result = session.write_transaction(\n",
    "                                self._add_usecase_and_return_existing_node, actor_name, usecase_id)\n",
    "                    else:\n",
    "                      print(\"ignoring ...\")\n",
    "                    #row has only 1 entry due to invariant. So break here. and exit f()\n",
    "                    break\n",
    "\n",
    "    #Vishnu: 1 Aug 2022: This approach uses properties instead of labels for usecases.\n",
    "    #Vishnu: 2 Jun 2022: created this f() to query nodes and return with usecase prop\n",
    "    @staticmethod\n",
    "    def _find_and_return_existing_node(tx, actor_name):\n",
    "        query = (\n",
    "            \"MATCH (n1) \"\n",
    "            \"WHERE (n1.name ='\" + actor_name + \"') \"\n",
    "            \"RETURN n1.name as n1name, n1.usecase as n1usecase\"\n",
    "        )\n",
    "        result = tx.run(query)\n",
    "        try:\n",
    "            return [{\"n1name\": row[\"n1name\"],\"n1usecase\": row[\"n1usecase\"]} \n",
    "                    for row in result]\n",
    "        # Capture any errors along with the query and data for traceability\n",
    "        except ServiceUnavailable as exception:\n",
    "            logging.error(\"{query} raised an error: \\n {exception}\".format(\n",
    "                query=query, exception=exception))\n",
    "            raise\n",
    "\n",
    "    #Vishnu: 1 Aug 2022: This approach uses properties instead of labels for usecases.\n",
    "    @staticmethod\n",
    "    def _create_and_return_node(tx, actor_name, usecase_id):\n",
    "            query = (\n",
    "            \"CREATE (n1 \"+\"{ name: '\"+actor_name+\"', usecase: '\"+usecase_id+\"'}) \"\n",
    "            \"RETURN n1\"\n",
    "            )\n",
    "            result = tx.run(query, actor_name=actor_name)\n",
    "            try:\n",
    "                return [{\"n1name\": row[\"n1\"][\"name\"]}\n",
    "                        for row in result]\n",
    "            # Capture any errors along with the query and data for traceability\n",
    "            except ServiceUnavailable as exception:\n",
    "                logging.error(\"{query} raised an error: \\n {exception}\".format(\n",
    "                    query=query, exception=exception))\n",
    "                raise\n",
    "\n",
    "    #Vishnu: 1 Aug 2022: This approach uses properties instead of labels for usecases.\n",
    "    #Vishnu: 1 Jun 2022: created this f() to add use case prop to existing nodes \n",
    "    #CAUTION: does not check for duplication, use create_node_with_prop instead.\n",
    "    def add_usecase_existing_node(self, actor_name, usecase_id):\n",
    "        with self.driver.session() as session:\n",
    "            # Write transactions allow the driver to handle retries and transient errors\n",
    "            result = session.write_transaction(\n",
    "                self._add_usecase_and_return_existing_node, actor_name, usecase_id)\n",
    "            \n",
    "            # we expect only 1 node. Do we need the for loop below?\n",
    "            for row in result:\n",
    "                print(\"added usecase to node: {n1}\".format(n1=row['n1']))\n",
    "\n",
    "    #Vishnu: 1 Aug 2022: This approach uses properties instead of labels for usecases.\n",
    "    @staticmethod\n",
    "    def _add_usecase_and_return_existing_node(tx, actor_name, usecase_id):\n",
    "        # To learn more about the Cypher syntax, see https://neo4j.com/docs/cypher-manual/current/\n",
    "        # The Reference Card is also a good resource for keywords https://neo4j.com/docs/cypher-refcard/current/\n",
    "        query = (\n",
    "            \"MATCH \"\n",
    "            \"(n1) \"\n",
    "            \"WHERE n1.name = '\" + actor_name +\"' \"\n",
    "            \"set n1.usecase = n1.usecase + '\" + \",\" + \"'\"+ \"+ '\"+usecase_id +\"' \"\n",
    "            \"return n1\"\n",
    "        )\n",
    "        result = tx.run(query, actor_name=actor_name)\n",
    "        try:\n",
    "            return [{\"n1\": row[\"n1\"][\"name\"]}\n",
    "                    for row in result]\n",
    "        # Capture any errors along with the query and data for traceability\n",
    "        except ServiceUnavailable as exception:\n",
    "            logging.error(\"{query} raised an error: \\n {exception}\".format(\n",
    "                query=query, exception=exception))\n",
    "            raise\n",
    "\n",
    "    #Vishnu: 1 Aug 2022: This approach uses properties instead of labels for usecases.\n",
    "    #CAUTION: Assumes that actors already exists with property as n.use case.\n",
    "    #So, this has to be called only in conjunction with create_node_with_usecase\n",
    "    #otherwise you may end up with actors not having use case prop\n",
    "    #but rels will have use case prop. not a good idea.\n",
    "    def create_rel_with_usecase(self, actor1_name, rel_name, actor2_name, usecase_id):\n",
    "        with self.driver.session() as session:\n",
    "            this_rel_already_exists = session.read_transaction(\n",
    "                self._find_and_return_this_existing_rels, actor1_name, rel_name, actor2_name, usecase_id)\n",
    "            if (this_rel_already_exists):\n",
    "                print(rel_name + \" already exists with \"+ usecase_id + \" between \"+ actor1_name + \" and \"+ actor2_name)\n",
    "                return\n",
    "            else:\n",
    "                #we are pretty sure something didnt match\n",
    "                #this relation does not exist currently between the nodes under the use case, \n",
    "                #add it.\n",
    "                result3 = session.write_transaction(\n",
    "                    self._create_and_return_rel, actor1_name, rel_name, actor2_name, usecase_id)\n",
    "                #if (not retult3)\n",
    "                for row in result3:\n",
    "                    print(\"Created relation: {actor1} - {rel} - {actor2} in {usecase}\".\n",
    "                            format(actor1=row['n1name'], \n",
    "                            rel=row['r1name'],\n",
    "                            actor2=row['n2name'],\n",
    "                            usecase=row['r1usecase']))\n",
    "    \n",
    "    #Vishnu: 1 Aug 2022: at this moment this f() uses labels instead of properties for n.usecases.\n",
    "    #                    Note that rels still uses properties.\n",
    "    #        1 Aug 2022: TBD: create a property-version (as against label) of the same thing.\n",
    "    #Vishnu: 21 Jun 2022: created this f() to create relationships with usecase label\n",
    "    #if this works, this is the only function that needed to be called.\n",
    "    def create_actors_relationship_with_usecase(self, actor1_name, rel_name, actor2_name, usecase_id):\n",
    "            #process actor1\n",
    "            self.create_node_with_usecase_label(actor1_name, usecase_id)\n",
    "            #process actor2\n",
    "            self.create_node_with_usecase_label(actor2_name, usecase_id)\n",
    "            #process relation\n",
    "            self.create_rel_with_usecase_label(actor1_name, rel_name, actor2_name, usecase_id)\n",
    "\n",
    "    #Vishnu: 23 June 2022: created\n",
    "    #looks for a rel under a use case between 2 given nodes.\n",
    "    #normally, we expect only 0 or 1 unique entry.\n",
    "    @staticmethod                \n",
    "    def _find_and_return_this_existing_rels(tx, actor1_name, rel_name, actor2_name, usecase_id):\n",
    "        query = (\n",
    "            \"MATCH (n1)-[r1]-(n2) \"\n",
    "            \"WHERE (n1.name ='\" + actor1_name + \"') \"\n",
    "            \"and   (n2.name ='\" + actor2_name + \"') \"\n",
    "            \"and   (r1.usecase CONTAINS '\"+ usecase_id+ \"') \"\n",
    "            \"and   (r1.name ='\" + rel_name + \"') \"\n",
    "            \"RETURN n1.name as n1name, r1.name as r1name, n2.name as n2name, r1.usecase as r1usecase\"\n",
    "        )\n",
    "        result = tx.run(query)\n",
    "        return [row[\"r1name\"] for row in result]\n",
    "        \n",
    "    \n",
    "    #Vishnu: 21 June 2022: created this supporting f()\n",
    "    #return for all relationship between given two nodes.\n",
    "    @staticmethod                \n",
    "    def _find_and_return_all_existing_rels_for_uc(tx, actor1_name, actor2_name, usecase_id):\n",
    "        query = (\n",
    "            \"MATCH (n1)-[r1]-(n2) \"\n",
    "            \"WHERE (n1.name ='\" + actor1_name + \"') \"\n",
    "            \"and   (n2.name ='\" + actor2_name + \"') \"\n",
    "            \"and   (r1.usecase CONTAINS '\"+ usecase_id+ \"') \"\n",
    "            \"RETURN n1.name as n1name, r1.name as r1name, n2.name as n2name, r1.usecase as r1usecase\"\n",
    "        )\n",
    "        result = tx.run(query)\n",
    "        try:\n",
    "            return [{\n",
    "                        \"n1name\": row[\"n1name\"],\n",
    "                        \"n2name\": row[\"n2name\"],\n",
    "                        \"r1name\": row[\"r1name\"],\n",
    "                        \"r1usecase\": row[\"r1usecase\"],\n",
    "                    } \n",
    "                    for row in result]\n",
    "        # Capture any errors along with the query and data for traceability\n",
    "        except ServiceUnavailable as exception:\n",
    "            logging.error(\"{query} raised an error: \\n {exception}\".format(\n",
    "                query=query, exception=exception))\n",
    "            raise\n",
    "\n",
    "    #Vishnu: 21 June 2022: created this supporting f()\n",
    "    #adds a name for an existing relationship between given two nodes.\n",
    "    @staticmethod                \n",
    "    def _add_usecase_and_return_existing_rel(tx, actor1_name, rel_name, actor2_name, usecase_id):\n",
    "        query = (\n",
    "            \"MATCH (n1)-[r1]-(n2) \"\n",
    "            \"WHERE (n1.name ='\" + actor1_name + \"') \"\n",
    "            \"and   (n2.name ='\" + actor2_name + \"')\"\n",
    "            \"set    r1.usecase = r1.usecase + '\" + \",\" + \"'\"+ \"+ '\"+usecase_id +\"' \"\n",
    "        )\n",
    "        result = tx.run(query)\n",
    "\n",
    "    \n",
    "    #Vishnu: 30 june 2022: created\n",
    "    #CAUTION: if the property already exists, \n",
    "    #this overwrites the current value.\n",
    "    @staticmethod\n",
    "    def _write_property_and_return_existing_node(tx, actor_name, propertyName, propertyVal):\n",
    "        query = (\n",
    "            \"MATCH \"\n",
    "            \"(n1) \"\n",
    "            \"WHERE n1.name = '\" + actor_name +\"' \"\n",
    "            \"set n1.\"+propertyName+\" = '\"+propertyVal +\"' \"\n",
    "            \"return n1\"\n",
    "        )\n",
    "        result = tx.run(query, actor_name=actor_name)\n",
    "        try:\n",
    "            return [{\"n1\": row[\"n1\"][\"name\"]}\n",
    "                    for row in result]\n",
    "        # Capture any errors along with the query and data for traceability\n",
    "        except ServiceUnavailable as exception:\n",
    "            logging.error(\"{query} raised an error: \\n {exception}\".format(\n",
    "                query=query, exception=exception))\n",
    "            raise\n",
    "\n",
    "    #Vishnu: 30 june 2022: created\n",
    "    #CAUTION: if the property already exists, \n",
    "    #this overwrites the current value.\n",
    "    @staticmethod\n",
    "    def _write_property_and_return_existing_rel(tx, actor1_name, rel_name, actor2_name, \n",
    "                                                propertyName, propertyVal):\n",
    "        query = (\n",
    "            \"MATCH (n1)-[r1]-(n2) \"\n",
    "            \"WHERE (n1.name ='\" + actor1_name + \"') \"\n",
    "            \"and   (n2.name ='\" + actor2_name + \"') \"\n",
    "            \"and   (r1.name ='\" + rel_name + \"') \"\n",
    "            \"set   r1.\"+propertyName+\" = '\"+propertyVal +\"' \"\n",
    "            \"return r1\"\n",
    "        )\n",
    "        result = tx.run(query)\n",
    "        try:\n",
    "            return [{\"r1\": row[\"r1\"][\"name\"]}\n",
    "                    for row in result]\n",
    "        # Capture any errors along with the query and data for traceability\n",
    "        except ServiceUnavailable as exception:\n",
    "            logging.error(\"{query} raised an error: \\n {exception}\".format(\n",
    "                query=query, exception=exception))\n",
    "            raise\n",
    "\n",
    "    #Vishnu: 22 June 2022: created\n",
    "    #assumption: nodes already exist\n",
    "    @staticmethod\n",
    "    def _create_and_return_rel(tx, actor1_name, rel_name, actor2_name, usecaseid):\n",
    "            query = (\n",
    "            \"MATCH \"\n",
    "            \"(n1), \"\n",
    "            \"(n2) \"\n",
    "            \"WHERE n1.name = '\" + actor1_name + \"' AND n2.name = '\"+actor2_name+\"' \"\n",
    "            \" AND n1.usecase CONTAINS '\"+ usecaseid+\"' \"\n",
    "            \" AND n2.usecase CONTAINS '\"+ usecaseid+\"' \"\n",
    "            \"CREATE (n1)-[r1:Relation \" + \"{name: '\"+rel_name+\"', usecase: '\"+usecaseid+\"'} ]->(n2) \"\n",
    "            \"RETURN n1, r1, n2\"\n",
    "            )\n",
    "            result = tx.run(query)\n",
    "            try:\n",
    "                return [{\"n1name\": row[\"n1\"][\"name\"], \n",
    "                        \"r1name\": row[\"r1\"][\"name\"],\n",
    "                        \"n2name\": row[\"n2\"][\"name\"],\n",
    "                        \"r1usecase\": row[\"r1\"][\"usecase\"]}\n",
    "                        for row in result]\n",
    "            # Capture any errors along with the query and data for traceability\n",
    "            except ServiceUnavailable as exception:\n",
    "                logging.error(\"{query} raised an error: \\n {exception}\".format(\n",
    "                    query=query, exception=exception))\n",
    "                raise\n",
    "\n",
    "    #Vishnu: 1 Jun 2022: created this f() to list all nodes with usecase label\n",
    "    def find_all_usecase_actors(self, usecase_id):\n",
    "        with self.driver.session() as session:\n",
    "            result = session.read_transaction(self._find_and_return_all_usecase_actors, usecase_id)\n",
    "            i=0\n",
    "            for row in result:\n",
    "                i=i+1\n",
    "                print(\"Found actor-\"+ str(i) +\": {row}\".format(row=row))\n",
    "\n",
    "    @staticmethod\n",
    "    def _find_and_return_all_usecase_actors(tx, usecase_id):\n",
    "        query = (\n",
    "            \"MATCH (n) \"\n",
    "            \"WHERE (n.usecase = '\"+usecase_id+\"') \"\n",
    "            \"RETURN n.name AS name\"\n",
    "        )\n",
    "        result = tx.run(query)\n",
    "        return [row[\"name\"] for row in result]\n",
    "\n",
    "    #Vishnu: 21 Jun 2022: created this f() to cleanup the DB\n",
    "    #CAUTION: will delete everything\n",
    "    def cleanup_db(self):\n",
    "        with self.driver.session() as session:\n",
    "            result = session.read_transaction(\n",
    "                self._count_nodes_in_db)\n",
    "            for row in result:\n",
    "                print(\"Found {row} actors, deleting! \".format(row=row['count']))\n",
    "            result = session.write_transaction(\n",
    "                self._cleanup_db)\n",
    "\n",
    "    #Vishnu: 22 June 2022: created this f() \n",
    "    #(over)writes a prop to a node\n",
    "    def writePropToNode(self, actor_name, propertyName, propertyVal):\n",
    "        with self.driver.session() as session:\n",
    "            result = session.write_transaction(\n",
    "                self._write_property_and_return_existing_node, \n",
    "                    actor_name, \n",
    "                    propertyName, \n",
    "                    propertyVal)\n",
    "        \n",
    "            # we expect only 1 node. Do we need the for loop below?\n",
    "            for row in result:\n",
    "                print(\"added prop \"+\n",
    "                        propertyName+\n",
    "                        \" = \"+\n",
    "                        propertyVal+\n",
    "                        \" to node: {n1}\".format(n1=row['n1']))\n",
    "\n",
    "    #Vishnu: 22 June 2022: created this f() \n",
    "    #(over)writes a prop to a rel\n",
    "    def writePropToRel(self, a1, rel_name, a2, propertyName, propertyVal):\n",
    "        with self.driver.session() as session:\n",
    "            result = session.write_transaction(\n",
    "                self._write_property_and_return_existing_rel, \n",
    "                    a1, rel_name, a2,\n",
    "                    propertyName, \n",
    "                    propertyVal)\n",
    "        \n",
    "            # we expect only 1 node. Do we need the for loop below?\n",
    "            for row in result:\n",
    "                print(\"added prop \"+\n",
    "                        propertyName+\n",
    "                        \" = \"+\n",
    "                        propertyVal+\n",
    "                        \" to rel: {r1}\".format(r1=row['r1']))\n",
    "\n",
    "    @staticmethod\n",
    "    def _cleanup_db(tx):\n",
    "        query = (\n",
    "            \"MATCH (n) \"\n",
    "            \"detach delete n\"\n",
    "        )\n",
    "        result = tx.run(query)\n",
    "        try:\n",
    "            return \n",
    "        # Capture any errors along with the query and data for traceability\n",
    "        except ServiceUnavailable as exception:\n",
    "            logging.error(\"{query} raised an error: \\n {exception}\".format(\n",
    "                query=query, exception=exception))\n",
    "            raise\n",
    "\n",
    "    @staticmethod\n",
    "    def _count_nodes_in_db(tx):\n",
    "        query = (\n",
    "            \"MATCH (n) \"\n",
    "            \"return count(n) as count\"\n",
    "        )\n",
    "        result = tx.run(query)\n",
    "        try:\n",
    "            return [{\"count\": row[\"count\"]} \n",
    "                    for row in result]\n",
    "        # Capture any errors along with the query and data for traceability\n",
    "        except ServiceUnavailable as exception:\n",
    "            logging.error(\"{query} raised an error: \\n {exception}\".format(\n",
    "                query=query, exception=exception))\n",
    "            raise"
   ]
  },
  {
   "cell_type": "code",
   "execution_count": 7,
   "id": "9b61d274",
   "metadata": {},
   "outputs": [],
   "source": [
    "app = App(uri, user, password)"
   ]
  },
  {
   "cell_type": "code",
   "execution_count": 8,
   "id": "83fb9cf6",
   "metadata": {},
   "outputs": [
    {
     "name": "stderr",
     "output_type": "stream",
     "text": [
      "C:\\Users\\z001msvk\\AppData\\Local\\Temp/ipykernel_1712/3710171366.py:463: DeprecationWarning: read_transaction has been renamed to execute_read\n",
      "  result = session.read_transaction(\n"
     ]
    },
    {
     "name": "stdout",
     "output_type": "stream",
     "text": [
      "Found 0 actors, deleting! \n"
     ]
    },
    {
     "name": "stderr",
     "output_type": "stream",
     "text": [
      "C:\\Users\\z001msvk\\AppData\\Local\\Temp/ipykernel_1712/3710171366.py:467: DeprecationWarning: write_transaction has been renamed to execute_write\n",
      "  result = session.write_transaction(\n"
     ]
    }
   ],
   "source": [
    "app.cleanup_db()"
   ]
  },
  {
   "cell_type": "code",
   "execution_count": 9,
   "id": "c1c08dac",
   "metadata": {},
   "outputs": [
    {
     "name": "stderr",
     "output_type": "stream",
     "text": [
      "C:\\Users\\z001msvk\\AppData\\Local\\Temp/ipykernel_1712/3710171366.py:15: DeprecationWarning: read_transaction has been renamed to execute_read\n",
      "  node_already_exists = session.read_transaction(\n",
      "C:\\Users\\z001msvk\\AppData\\Local\\Temp/ipykernel_1712/3710171366.py:19: DeprecationWarning: write_transaction has been renamed to execute_write\n",
      "  result = session.write_transaction(\n"
     ]
    },
    {
     "name": "stdout",
     "output_type": "stream",
     "text": [
      "Created node: NF Selector\n"
     ]
    },
    {
     "name": "stderr",
     "output_type": "stream",
     "text": [
      "C:\\Users\\z001msvk\\AppData\\Local\\Temp/ipykernel_1712/3710171366.py:15: DeprecationWarning: read_transaction has been renamed to execute_read\n",
      "  node_already_exists = session.read_transaction(\n",
      "C:\\Users\\z001msvk\\AppData\\Local\\Temp/ipykernel_1712/3710171366.py:19: DeprecationWarning: write_transaction has been renamed to execute_write\n",
      "  result = session.write_transaction(\n"
     ]
    },
    {
     "name": "stdout",
     "output_type": "stream",
     "text": [
      "Created node: EMS\n"
     ]
    },
    {
     "name": "stderr",
     "output_type": "stream",
     "text": [
      "C:\\Users\\z001msvk\\AppData\\Local\\Temp/ipykernel_1712/3710171366.py:124: DeprecationWarning: read_transaction has been renamed to execute_read\n",
      "  this_rel_already_exists = session.read_transaction(\n",
      "C:\\Users\\z001msvk\\AppData\\Local\\Temp/ipykernel_1712/3710171366.py:133: DeprecationWarning: write_transaction has been renamed to execute_write\n",
      "  result3 = session.write_transaction(\n"
     ]
    },
    {
     "name": "stdout",
     "output_type": "stream",
     "text": [
      "Created relation: NF Selector - reads - EMS in usecase_xyz\n"
     ]
    },
    {
     "name": "stderr",
     "output_type": "stream",
     "text": [
      "C:\\Users\\z001msvk\\AppData\\Local\\Temp/ipykernel_1712/3710171366.py:15: DeprecationWarning: read_transaction has been renamed to execute_read\n",
      "  node_already_exists = session.read_transaction(\n"
     ]
    },
    {
     "name": "stdout",
     "output_type": "stream",
     "text": [
      "Node already exists: NF Selector in ['usecase_xyz']\n",
      "ignoring ...\n"
     ]
    },
    {
     "name": "stderr",
     "output_type": "stream",
     "text": [
      "C:\\Users\\z001msvk\\AppData\\Local\\Temp/ipykernel_1712/3710171366.py:15: DeprecationWarning: read_transaction has been renamed to execute_read\n",
      "  node_already_exists = session.read_transaction(\n",
      "C:\\Users\\z001msvk\\AppData\\Local\\Temp/ipykernel_1712/3710171366.py:19: DeprecationWarning: write_transaction has been renamed to execute_write\n",
      "  result = session.write_transaction(\n"
     ]
    },
    {
     "name": "stdout",
     "output_type": "stream",
     "text": [
      "Created node: KPI Fetcher\n"
     ]
    },
    {
     "name": "stderr",
     "output_type": "stream",
     "text": [
      "C:\\Users\\z001msvk\\AppData\\Local\\Temp/ipykernel_1712/3710171366.py:124: DeprecationWarning: read_transaction has been renamed to execute_read\n",
      "  this_rel_already_exists = session.read_transaction(\n",
      "C:\\Users\\z001msvk\\AppData\\Local\\Temp/ipykernel_1712/3710171366.py:133: DeprecationWarning: write_transaction has been renamed to execute_write\n",
      "  result3 = session.write_transaction(\n"
     ]
    },
    {
     "name": "stdout",
     "output_type": "stream",
     "text": [
      "Created relation: NF Selector - process - KPI Fetcher in usecase_xyz\n"
     ]
    },
    {
     "name": "stderr",
     "output_type": "stream",
     "text": [
      "C:\\Users\\z001msvk\\AppData\\Local\\Temp/ipykernel_1712/3710171366.py:15: DeprecationWarning: read_transaction has been renamed to execute_read\n",
      "  node_already_exists = session.read_transaction(\n"
     ]
    },
    {
     "name": "stdout",
     "output_type": "stream",
     "text": [
      "Node already exists: NF Selector in ['usecase_xyz']\n",
      "ignoring ...\n"
     ]
    },
    {
     "name": "stderr",
     "output_type": "stream",
     "text": [
      "C:\\Users\\z001msvk\\AppData\\Local\\Temp/ipykernel_1712/3710171366.py:15: DeprecationWarning: read_transaction has been renamed to execute_read\n",
      "  node_already_exists = session.read_transaction(\n",
      "C:\\Users\\z001msvk\\AppData\\Local\\Temp/ipykernel_1712/3710171366.py:19: DeprecationWarning: write_transaction has been renamed to execute_write\n",
      "  result = session.write_transaction(\n"
     ]
    },
    {
     "name": "stdout",
     "output_type": "stream",
     "text": [
      "Created node: Filtered NF List\n"
     ]
    },
    {
     "name": "stderr",
     "output_type": "stream",
     "text": [
      "C:\\Users\\z001msvk\\AppData\\Local\\Temp/ipykernel_1712/3710171366.py:124: DeprecationWarning: read_transaction has been renamed to execute_read\n",
      "  this_rel_already_exists = session.read_transaction(\n",
      "C:\\Users\\z001msvk\\AppData\\Local\\Temp/ipykernel_1712/3710171366.py:133: DeprecationWarning: write_transaction has been renamed to execute_write\n",
      "  result3 = session.write_transaction(\n"
     ]
    },
    {
     "name": "stdout",
     "output_type": "stream",
     "text": [
      "Created relation: NF Selector - produces - Filtered NF List in usecase_xyz\n"
     ]
    },
    {
     "name": "stderr",
     "output_type": "stream",
     "text": [
      "C:\\Users\\z001msvk\\AppData\\Local\\Temp/ipykernel_1712/3710171366.py:15: DeprecationWarning: read_transaction has been renamed to execute_read\n",
      "  node_already_exists = session.read_transaction(\n"
     ]
    },
    {
     "name": "stdout",
     "output_type": "stream",
     "text": [
      "Node already exists: KPI Fetcher in ['usecase_xyz']\n",
      "ignoring ...\n"
     ]
    },
    {
     "name": "stderr",
     "output_type": "stream",
     "text": [
      "C:\\Users\\z001msvk\\AppData\\Local\\Temp/ipykernel_1712/3710171366.py:15: DeprecationWarning: read_transaction has been renamed to execute_read\n",
      "  node_already_exists = session.read_transaction(\n"
     ]
    },
    {
     "name": "stdout",
     "output_type": "stream",
     "text": [
      "Node already exists: Filtered NF List in ['usecase_xyz']\n",
      "ignoring ...\n"
     ]
    },
    {
     "name": "stderr",
     "output_type": "stream",
     "text": [
      "C:\\Users\\z001msvk\\AppData\\Local\\Temp/ipykernel_1712/3710171366.py:124: DeprecationWarning: read_transaction has been renamed to execute_read\n",
      "  this_rel_already_exists = session.read_transaction(\n",
      "C:\\Users\\z001msvk\\AppData\\Local\\Temp/ipykernel_1712/3710171366.py:133: DeprecationWarning: write_transaction has been renamed to execute_write\n",
      "  result3 = session.write_transaction(\n"
     ]
    },
    {
     "name": "stdout",
     "output_type": "stream",
     "text": [
      "Created relation: KPI Fetcher - uses - Filtered NF List in usecase_xyz\n"
     ]
    },
    {
     "name": "stderr",
     "output_type": "stream",
     "text": [
      "C:\\Users\\z001msvk\\AppData\\Local\\Temp/ipykernel_1712/3710171366.py:15: DeprecationWarning: read_transaction has been renamed to execute_read\n",
      "  node_already_exists = session.read_transaction(\n"
     ]
    },
    {
     "name": "stdout",
     "output_type": "stream",
     "text": [
      "Node already exists: KPI Fetcher in ['usecase_xyz']\n",
      "ignoring ...\n"
     ]
    },
    {
     "name": "stderr",
     "output_type": "stream",
     "text": [
      "C:\\Users\\z001msvk\\AppData\\Local\\Temp/ipykernel_1712/3710171366.py:15: DeprecationWarning: read_transaction has been renamed to execute_read\n",
      "  node_already_exists = session.read_transaction(\n",
      "C:\\Users\\z001msvk\\AppData\\Local\\Temp/ipykernel_1712/3710171366.py:19: DeprecationWarning: write_transaction has been renamed to execute_write\n",
      "  result = session.write_transaction(\n"
     ]
    },
    {
     "name": "stdout",
     "output_type": "stream",
     "text": [
      "Created node: KPI Data Store\n"
     ]
    },
    {
     "name": "stderr",
     "output_type": "stream",
     "text": [
      "C:\\Users\\z001msvk\\AppData\\Local\\Temp/ipykernel_1712/3710171366.py:124: DeprecationWarning: read_transaction has been renamed to execute_read\n",
      "  this_rel_already_exists = session.read_transaction(\n",
      "C:\\Users\\z001msvk\\AppData\\Local\\Temp/ipykernel_1712/3710171366.py:133: DeprecationWarning: write_transaction has been renamed to execute_write\n",
      "  result3 = session.write_transaction(\n"
     ]
    },
    {
     "name": "stdout",
     "output_type": "stream",
     "text": [
      "Created relation: KPI Fetcher - writes - KPI Data Store in usecase_xyz\n"
     ]
    },
    {
     "name": "stderr",
     "output_type": "stream",
     "text": [
      "C:\\Users\\z001msvk\\AppData\\Local\\Temp/ipykernel_1712/3710171366.py:15: DeprecationWarning: read_transaction has been renamed to execute_read\n",
      "  node_already_exists = session.read_transaction(\n",
      "C:\\Users\\z001msvk\\AppData\\Local\\Temp/ipykernel_1712/3710171366.py:19: DeprecationWarning: write_transaction has been renamed to execute_write\n",
      "  result = session.write_transaction(\n"
     ]
    },
    {
     "name": "stdout",
     "output_type": "stream",
     "text": [
      "Created node: KPI Pre-processor\n"
     ]
    },
    {
     "name": "stderr",
     "output_type": "stream",
     "text": [
      "C:\\Users\\z001msvk\\AppData\\Local\\Temp/ipykernel_1712/3710171366.py:15: DeprecationWarning: read_transaction has been renamed to execute_read\n",
      "  node_already_exists = session.read_transaction(\n"
     ]
    },
    {
     "name": "stdout",
     "output_type": "stream",
     "text": [
      "Node already exists: KPI Data Store in ['usecase_xyz']\n",
      "ignoring ...\n"
     ]
    },
    {
     "name": "stderr",
     "output_type": "stream",
     "text": [
      "C:\\Users\\z001msvk\\AppData\\Local\\Temp/ipykernel_1712/3710171366.py:124: DeprecationWarning: read_transaction has been renamed to execute_read\n",
      "  this_rel_already_exists = session.read_transaction(\n",
      "C:\\Users\\z001msvk\\AppData\\Local\\Temp/ipykernel_1712/3710171366.py:133: DeprecationWarning: write_transaction has been renamed to execute_write\n",
      "  result3 = session.write_transaction(\n"
     ]
    },
    {
     "name": "stdout",
     "output_type": "stream",
     "text": [
      "Created relation: KPI Pre-processor - reads - KPI Data Store in usecase_xyz\n"
     ]
    },
    {
     "name": "stderr",
     "output_type": "stream",
     "text": [
      "C:\\Users\\z001msvk\\AppData\\Local\\Temp/ipykernel_1712/3710171366.py:15: DeprecationWarning: read_transaction has been renamed to execute_read\n",
      "  node_already_exists = session.read_transaction(\n"
     ]
    },
    {
     "name": "stdout",
     "output_type": "stream",
     "text": [
      "Node already exists: KPI Pre-processor in ['usecase_xyz']\n",
      "ignoring ...\n"
     ]
    },
    {
     "name": "stderr",
     "output_type": "stream",
     "text": [
      "C:\\Users\\z001msvk\\AppData\\Local\\Temp/ipykernel_1712/3710171366.py:15: DeprecationWarning: read_transaction has been renamed to execute_read\n",
      "  node_already_exists = session.read_transaction(\n",
      "C:\\Users\\z001msvk\\AppData\\Local\\Temp/ipykernel_1712/3710171366.py:19: DeprecationWarning: write_transaction has been renamed to execute_write\n",
      "  result = session.write_transaction(\n"
     ]
    },
    {
     "name": "stdout",
     "output_type": "stream",
     "text": [
      "Created node: ML Model(KPI Forecaster)\n"
     ]
    },
    {
     "name": "stderr",
     "output_type": "stream",
     "text": [
      "C:\\Users\\z001msvk\\AppData\\Local\\Temp/ipykernel_1712/3710171366.py:124: DeprecationWarning: read_transaction has been renamed to execute_read\n",
      "  this_rel_already_exists = session.read_transaction(\n",
      "C:\\Users\\z001msvk\\AppData\\Local\\Temp/ipykernel_1712/3710171366.py:133: DeprecationWarning: write_transaction has been renamed to execute_write\n",
      "  result3 = session.write_transaction(\n"
     ]
    },
    {
     "name": "stdout",
     "output_type": "stream",
     "text": [
      "Created relation: KPI Pre-processor - process - ML Model(KPI Forecaster) in usecase_xyz\n"
     ]
    },
    {
     "name": "stderr",
     "output_type": "stream",
     "text": [
      "C:\\Users\\z001msvk\\AppData\\Local\\Temp/ipykernel_1712/3710171366.py:15: DeprecationWarning: read_transaction has been renamed to execute_read\n",
      "  node_already_exists = session.read_transaction(\n"
     ]
    },
    {
     "name": "stdout",
     "output_type": "stream",
     "text": [
      "Node already exists: KPI Pre-processor in ['usecase_xyz']\n",
      "ignoring ...\n"
     ]
    },
    {
     "name": "stderr",
     "output_type": "stream",
     "text": [
      "C:\\Users\\z001msvk\\AppData\\Local\\Temp/ipykernel_1712/3710171366.py:15: DeprecationWarning: read_transaction has been renamed to execute_read\n",
      "  node_already_exists = session.read_transaction(\n",
      "C:\\Users\\z001msvk\\AppData\\Local\\Temp/ipykernel_1712/3710171366.py:19: DeprecationWarning: write_transaction has been renamed to execute_write\n",
      "  result = session.write_transaction(\n"
     ]
    },
    {
     "name": "stdout",
     "output_type": "stream",
     "text": [
      "Created node: Processed KPI Data\n"
     ]
    },
    {
     "name": "stderr",
     "output_type": "stream",
     "text": [
      "C:\\Users\\z001msvk\\AppData\\Local\\Temp/ipykernel_1712/3710171366.py:124: DeprecationWarning: read_transaction has been renamed to execute_read\n",
      "  this_rel_already_exists = session.read_transaction(\n",
      "C:\\Users\\z001msvk\\AppData\\Local\\Temp/ipykernel_1712/3710171366.py:133: DeprecationWarning: write_transaction has been renamed to execute_write\n",
      "  result3 = session.write_transaction(\n"
     ]
    },
    {
     "name": "stdout",
     "output_type": "stream",
     "text": [
      "Created relation: KPI Pre-processor - produces - Processed KPI Data in usecase_xyz\n"
     ]
    },
    {
     "name": "stderr",
     "output_type": "stream",
     "text": [
      "C:\\Users\\z001msvk\\AppData\\Local\\Temp/ipykernel_1712/3710171366.py:15: DeprecationWarning: read_transaction has been renamed to execute_read\n",
      "  node_already_exists = session.read_transaction(\n"
     ]
    },
    {
     "name": "stdout",
     "output_type": "stream",
     "text": [
      "Node already exists: ML Model(KPI Forecaster) in ['usecase_xyz']\n",
      "ignoring ...\n"
     ]
    },
    {
     "name": "stderr",
     "output_type": "stream",
     "text": [
      "C:\\Users\\z001msvk\\AppData\\Local\\Temp/ipykernel_1712/3710171366.py:15: DeprecationWarning: read_transaction has been renamed to execute_read\n",
      "  node_already_exists = session.read_transaction(\n"
     ]
    },
    {
     "name": "stdout",
     "output_type": "stream",
     "text": [
      "Node already exists: Processed KPI Data in ['usecase_xyz']\n",
      "ignoring ...\n"
     ]
    },
    {
     "name": "stderr",
     "output_type": "stream",
     "text": [
      "C:\\Users\\z001msvk\\AppData\\Local\\Temp/ipykernel_1712/3710171366.py:124: DeprecationWarning: read_transaction has been renamed to execute_read\n",
      "  this_rel_already_exists = session.read_transaction(\n",
      "C:\\Users\\z001msvk\\AppData\\Local\\Temp/ipykernel_1712/3710171366.py:133: DeprecationWarning: write_transaction has been renamed to execute_write\n",
      "  result3 = session.write_transaction(\n"
     ]
    },
    {
     "name": "stdout",
     "output_type": "stream",
     "text": [
      "Created relation: ML Model(KPI Forecaster) - uses - Processed KPI Data in usecase_xyz\n"
     ]
    },
    {
     "name": "stderr",
     "output_type": "stream",
     "text": [
      "C:\\Users\\z001msvk\\AppData\\Local\\Temp/ipykernel_1712/3710171366.py:15: DeprecationWarning: read_transaction has been renamed to execute_read\n",
      "  node_already_exists = session.read_transaction(\n"
     ]
    },
    {
     "name": "stdout",
     "output_type": "stream",
     "text": [
      "Node already exists: ML Model(KPI Forecaster) in ['usecase_xyz']\n",
      "ignoring ...\n"
     ]
    },
    {
     "name": "stderr",
     "output_type": "stream",
     "text": [
      "C:\\Users\\z001msvk\\AppData\\Local\\Temp/ipykernel_1712/3710171366.py:15: DeprecationWarning: read_transaction has been renamed to execute_read\n",
      "  node_already_exists = session.read_transaction(\n",
      "C:\\Users\\z001msvk\\AppData\\Local\\Temp/ipykernel_1712/3710171366.py:19: DeprecationWarning: write_transaction has been renamed to execute_write\n",
      "  result = session.write_transaction(\n"
     ]
    },
    {
     "name": "stdout",
     "output_type": "stream",
     "text": [
      "Created node: KPI Forecasts\n"
     ]
    },
    {
     "name": "stderr",
     "output_type": "stream",
     "text": [
      "C:\\Users\\z001msvk\\AppData\\Local\\Temp/ipykernel_1712/3710171366.py:124: DeprecationWarning: read_transaction has been renamed to execute_read\n",
      "  this_rel_already_exists = session.read_transaction(\n",
      "C:\\Users\\z001msvk\\AppData\\Local\\Temp/ipykernel_1712/3710171366.py:133: DeprecationWarning: write_transaction has been renamed to execute_write\n",
      "  result3 = session.write_transaction(\n"
     ]
    },
    {
     "name": "stdout",
     "output_type": "stream",
     "text": [
      "Created relation: ML Model(KPI Forecaster) - infer - KPI Forecasts in usecase_xyz\n"
     ]
    },
    {
     "name": "stderr",
     "output_type": "stream",
     "text": [
      "C:\\Users\\z001msvk\\AppData\\Local\\Temp/ipykernel_1712/3710171366.py:15: DeprecationWarning: read_transaction has been renamed to execute_read\n",
      "  node_already_exists = session.read_transaction(\n"
     ]
    },
    {
     "name": "stdout",
     "output_type": "stream",
     "text": [
      "Node already exists: ML Model(KPI Forecaster) in ['usecase_xyz']\n",
      "ignoring ...\n"
     ]
    },
    {
     "name": "stderr",
     "output_type": "stream",
     "text": [
      "C:\\Users\\z001msvk\\AppData\\Local\\Temp/ipykernel_1712/3710171366.py:15: DeprecationWarning: read_transaction has been renamed to execute_read\n",
      "  node_already_exists = session.read_transaction(\n",
      "C:\\Users\\z001msvk\\AppData\\Local\\Temp/ipykernel_1712/3710171366.py:19: DeprecationWarning: write_transaction has been renamed to execute_write\n",
      "  result = session.write_transaction(\n"
     ]
    },
    {
     "name": "stdout",
     "output_type": "stream",
     "text": [
      "Created node: ML Model(KPI Anomaly Detector)\n"
     ]
    },
    {
     "name": "stderr",
     "output_type": "stream",
     "text": [
      "C:\\Users\\z001msvk\\AppData\\Local\\Temp/ipykernel_1712/3710171366.py:124: DeprecationWarning: read_transaction has been renamed to execute_read\n",
      "  this_rel_already_exists = session.read_transaction(\n",
      "C:\\Users\\z001msvk\\AppData\\Local\\Temp/ipykernel_1712/3710171366.py:133: DeprecationWarning: write_transaction has been renamed to execute_write\n",
      "  result3 = session.write_transaction(\n"
     ]
    },
    {
     "name": "stdout",
     "output_type": "stream",
     "text": [
      "Created relation: ML Model(KPI Forecaster) - process - ML Model(KPI Anomaly Detector) in usecase_xyz\n"
     ]
    },
    {
     "name": "stderr",
     "output_type": "stream",
     "text": [
      "C:\\Users\\z001msvk\\AppData\\Local\\Temp/ipykernel_1712/3710171366.py:15: DeprecationWarning: read_transaction has been renamed to execute_read\n",
      "  node_already_exists = session.read_transaction(\n"
     ]
    },
    {
     "name": "stdout",
     "output_type": "stream",
     "text": [
      "Node already exists: ML Model(KPI Forecaster) in ['usecase_xyz']\n",
      "ignoring ...\n"
     ]
    },
    {
     "name": "stderr",
     "output_type": "stream",
     "text": [
      "C:\\Users\\z001msvk\\AppData\\Local\\Temp/ipykernel_1712/3710171366.py:15: DeprecationWarning: read_transaction has been renamed to execute_read\n",
      "  node_already_exists = session.read_transaction(\n"
     ]
    },
    {
     "name": "stdout",
     "output_type": "stream",
     "text": [
      "Node already exists: KPI Forecasts in ['usecase_xyz']\n",
      "ignoring ...\n"
     ]
    },
    {
     "name": "stderr",
     "output_type": "stream",
     "text": [
      "C:\\Users\\z001msvk\\AppData\\Local\\Temp/ipykernel_1712/3710171366.py:124: DeprecationWarning: read_transaction has been renamed to execute_read\n",
      "  this_rel_already_exists = session.read_transaction(\n",
      "C:\\Users\\z001msvk\\AppData\\Local\\Temp/ipykernel_1712/3710171366.py:133: DeprecationWarning: write_transaction has been renamed to execute_write\n",
      "  result3 = session.write_transaction(\n"
     ]
    },
    {
     "name": "stdout",
     "output_type": "stream",
     "text": [
      "Created relation: ML Model(KPI Forecaster) - produces - KPI Forecasts in usecase_xyz\n"
     ]
    },
    {
     "name": "stderr",
     "output_type": "stream",
     "text": [
      "C:\\Users\\z001msvk\\AppData\\Local\\Temp/ipykernel_1712/3710171366.py:15: DeprecationWarning: read_transaction has been renamed to execute_read\n",
      "  node_already_exists = session.read_transaction(\n"
     ]
    },
    {
     "name": "stdout",
     "output_type": "stream",
     "text": [
      "Node already exists: ML Model(KPI Anomaly Detector) in ['usecase_xyz']\n",
      "ignoring ...\n"
     ]
    },
    {
     "name": "stderr",
     "output_type": "stream",
     "text": [
      "C:\\Users\\z001msvk\\AppData\\Local\\Temp/ipykernel_1712/3710171366.py:15: DeprecationWarning: read_transaction has been renamed to execute_read\n",
      "  node_already_exists = session.read_transaction(\n"
     ]
    },
    {
     "name": "stdout",
     "output_type": "stream",
     "text": [
      "Node already exists: KPI Forecasts in ['usecase_xyz']\n",
      "ignoring ...\n"
     ]
    },
    {
     "name": "stderr",
     "output_type": "stream",
     "text": [
      "C:\\Users\\z001msvk\\AppData\\Local\\Temp/ipykernel_1712/3710171366.py:124: DeprecationWarning: read_transaction has been renamed to execute_read\n",
      "  this_rel_already_exists = session.read_transaction(\n",
      "C:\\Users\\z001msvk\\AppData\\Local\\Temp/ipykernel_1712/3710171366.py:133: DeprecationWarning: write_transaction has been renamed to execute_write\n",
      "  result3 = session.write_transaction(\n"
     ]
    },
    {
     "name": "stdout",
     "output_type": "stream",
     "text": [
      "Created relation: ML Model(KPI Anomaly Detector) - uses - KPI Forecasts in usecase_xyz\n"
     ]
    },
    {
     "name": "stderr",
     "output_type": "stream",
     "text": [
      "C:\\Users\\z001msvk\\AppData\\Local\\Temp/ipykernel_1712/3710171366.py:15: DeprecationWarning: read_transaction has been renamed to execute_read\n",
      "  node_already_exists = session.read_transaction(\n"
     ]
    },
    {
     "name": "stdout",
     "output_type": "stream",
     "text": [
      "Node already exists: ML Model(KPI Anomaly Detector) in ['usecase_xyz']\n",
      "ignoring ...\n"
     ]
    },
    {
     "name": "stderr",
     "output_type": "stream",
     "text": [
      "C:\\Users\\z001msvk\\AppData\\Local\\Temp/ipykernel_1712/3710171366.py:15: DeprecationWarning: read_transaction has been renamed to execute_read\n",
      "  node_already_exists = session.read_transaction(\n",
      "C:\\Users\\z001msvk\\AppData\\Local\\Temp/ipykernel_1712/3710171366.py:19: DeprecationWarning: write_transaction has been renamed to execute_write\n",
      "  result = session.write_transaction(\n"
     ]
    },
    {
     "name": "stdout",
     "output_type": "stream",
     "text": [
      "Created node: KPI Anomolous Forecasts\n"
     ]
    },
    {
     "name": "stderr",
     "output_type": "stream",
     "text": [
      "C:\\Users\\z001msvk\\AppData\\Local\\Temp/ipykernel_1712/3710171366.py:124: DeprecationWarning: read_transaction has been renamed to execute_read\n",
      "  this_rel_already_exists = session.read_transaction(\n",
      "C:\\Users\\z001msvk\\AppData\\Local\\Temp/ipykernel_1712/3710171366.py:133: DeprecationWarning: write_transaction has been renamed to execute_write\n",
      "  result3 = session.write_transaction(\n"
     ]
    },
    {
     "name": "stdout",
     "output_type": "stream",
     "text": [
      "Created relation: ML Model(KPI Anomaly Detector) - infer - KPI Anomolous Forecasts in usecase_xyz\n"
     ]
    },
    {
     "name": "stderr",
     "output_type": "stream",
     "text": [
      "C:\\Users\\z001msvk\\AppData\\Local\\Temp/ipykernel_1712/3710171366.py:15: DeprecationWarning: read_transaction has been renamed to execute_read\n",
      "  node_already_exists = session.read_transaction(\n"
     ]
    },
    {
     "name": "stdout",
     "output_type": "stream",
     "text": [
      "Node already exists: ML Model(KPI Anomaly Detector) in ['usecase_xyz']\n",
      "ignoring ...\n"
     ]
    },
    {
     "name": "stderr",
     "output_type": "stream",
     "text": [
      "C:\\Users\\z001msvk\\AppData\\Local\\Temp/ipykernel_1712/3710171366.py:15: DeprecationWarning: read_transaction has been renamed to execute_read\n",
      "  node_already_exists = session.read_transaction(\n",
      "C:\\Users\\z001msvk\\AppData\\Local\\Temp/ipykernel_1712/3710171366.py:19: DeprecationWarning: write_transaction has been renamed to execute_write\n",
      "  result = session.write_transaction(\n"
     ]
    },
    {
     "name": "stdout",
     "output_type": "stream",
     "text": [
      "Created node: ML Model(Rouge NF Detector)\n"
     ]
    },
    {
     "name": "stderr",
     "output_type": "stream",
     "text": [
      "C:\\Users\\z001msvk\\AppData\\Local\\Temp/ipykernel_1712/3710171366.py:124: DeprecationWarning: read_transaction has been renamed to execute_read\n",
      "  this_rel_already_exists = session.read_transaction(\n",
      "C:\\Users\\z001msvk\\AppData\\Local\\Temp/ipykernel_1712/3710171366.py:133: DeprecationWarning: write_transaction has been renamed to execute_write\n",
      "  result3 = session.write_transaction(\n"
     ]
    },
    {
     "name": "stdout",
     "output_type": "stream",
     "text": [
      "Created relation: ML Model(KPI Anomaly Detector) - process - ML Model(Rouge NF Detector) in usecase_xyz\n"
     ]
    },
    {
     "name": "stderr",
     "output_type": "stream",
     "text": [
      "C:\\Users\\z001msvk\\AppData\\Local\\Temp/ipykernel_1712/3710171366.py:15: DeprecationWarning: read_transaction has been renamed to execute_read\n",
      "  node_already_exists = session.read_transaction(\n"
     ]
    },
    {
     "name": "stdout",
     "output_type": "stream",
     "text": [
      "Node already exists: ML Model(KPI Anomaly Detector) in ['usecase_xyz']\n",
      "ignoring ...\n"
     ]
    },
    {
     "name": "stderr",
     "output_type": "stream",
     "text": [
      "C:\\Users\\z001msvk\\AppData\\Local\\Temp/ipykernel_1712/3710171366.py:15: DeprecationWarning: read_transaction has been renamed to execute_read\n",
      "  node_already_exists = session.read_transaction(\n"
     ]
    },
    {
     "name": "stdout",
     "output_type": "stream",
     "text": [
      "Node already exists: KPI Anomolous Forecasts in ['usecase_xyz']\n",
      "ignoring ...\n"
     ]
    },
    {
     "name": "stderr",
     "output_type": "stream",
     "text": [
      "C:\\Users\\z001msvk\\AppData\\Local\\Temp/ipykernel_1712/3710171366.py:124: DeprecationWarning: read_transaction has been renamed to execute_read\n",
      "  this_rel_already_exists = session.read_transaction(\n",
      "C:\\Users\\z001msvk\\AppData\\Local\\Temp/ipykernel_1712/3710171366.py:133: DeprecationWarning: write_transaction has been renamed to execute_write\n",
      "  result3 = session.write_transaction(\n"
     ]
    },
    {
     "name": "stdout",
     "output_type": "stream",
     "text": [
      "Created relation: ML Model(KPI Anomaly Detector) - produces - KPI Anomolous Forecasts in usecase_xyz\n"
     ]
    },
    {
     "name": "stderr",
     "output_type": "stream",
     "text": [
      "C:\\Users\\z001msvk\\AppData\\Local\\Temp/ipykernel_1712/3710171366.py:15: DeprecationWarning: read_transaction has been renamed to execute_read\n",
      "  node_already_exists = session.read_transaction(\n"
     ]
    },
    {
     "name": "stdout",
     "output_type": "stream",
     "text": [
      "Node already exists: ML Model(Rouge NF Detector) in ['usecase_xyz']\n",
      "ignoring ...\n"
     ]
    },
    {
     "name": "stderr",
     "output_type": "stream",
     "text": [
      "C:\\Users\\z001msvk\\AppData\\Local\\Temp/ipykernel_1712/3710171366.py:15: DeprecationWarning: read_transaction has been renamed to execute_read\n",
      "  node_already_exists = session.read_transaction(\n"
     ]
    },
    {
     "name": "stdout",
     "output_type": "stream",
     "text": [
      "Node already exists: KPI Anomolous Forecasts in ['usecase_xyz']\n",
      "ignoring ...\n"
     ]
    },
    {
     "name": "stderr",
     "output_type": "stream",
     "text": [
      "C:\\Users\\z001msvk\\AppData\\Local\\Temp/ipykernel_1712/3710171366.py:124: DeprecationWarning: read_transaction has been renamed to execute_read\n",
      "  this_rel_already_exists = session.read_transaction(\n",
      "C:\\Users\\z001msvk\\AppData\\Local\\Temp/ipykernel_1712/3710171366.py:133: DeprecationWarning: write_transaction has been renamed to execute_write\n",
      "  result3 = session.write_transaction(\n"
     ]
    },
    {
     "name": "stdout",
     "output_type": "stream",
     "text": [
      "Created relation: ML Model(Rouge NF Detector) - uses - KPI Anomolous Forecasts in usecase_xyz\n"
     ]
    },
    {
     "name": "stderr",
     "output_type": "stream",
     "text": [
      "C:\\Users\\z001msvk\\AppData\\Local\\Temp/ipykernel_1712/3710171366.py:15: DeprecationWarning: read_transaction has been renamed to execute_read\n",
      "  node_already_exists = session.read_transaction(\n"
     ]
    },
    {
     "name": "stdout",
     "output_type": "stream",
     "text": [
      "Node already exists: ML Model(Rouge NF Detector) in ['usecase_xyz']\n",
      "ignoring ...\n"
     ]
    },
    {
     "name": "stderr",
     "output_type": "stream",
     "text": [
      "C:\\Users\\z001msvk\\AppData\\Local\\Temp/ipykernel_1712/3710171366.py:15: DeprecationWarning: read_transaction has been renamed to execute_read\n",
      "  node_already_exists = session.read_transaction(\n",
      "C:\\Users\\z001msvk\\AppData\\Local\\Temp/ipykernel_1712/3710171366.py:19: DeprecationWarning: write_transaction has been renamed to execute_write\n",
      "  result = session.write_transaction(\n"
     ]
    },
    {
     "name": "stdout",
     "output_type": "stream",
     "text": [
      "Created node: Rouge NF\n"
     ]
    },
    {
     "name": "stderr",
     "output_type": "stream",
     "text": [
      "C:\\Users\\z001msvk\\AppData\\Local\\Temp/ipykernel_1712/3710171366.py:124: DeprecationWarning: read_transaction has been renamed to execute_read\n",
      "  this_rel_already_exists = session.read_transaction(\n",
      "C:\\Users\\z001msvk\\AppData\\Local\\Temp/ipykernel_1712/3710171366.py:133: DeprecationWarning: write_transaction has been renamed to execute_write\n",
      "  result3 = session.write_transaction(\n"
     ]
    },
    {
     "name": "stdout",
     "output_type": "stream",
     "text": [
      "Created relation: ML Model(Rouge NF Detector) - infer - Rouge NF in usecase_xyz\n"
     ]
    },
    {
     "name": "stderr",
     "output_type": "stream",
     "text": [
      "C:\\Users\\z001msvk\\AppData\\Local\\Temp/ipykernel_1712/3710171366.py:15: DeprecationWarning: read_transaction has been renamed to execute_read\n",
      "  node_already_exists = session.read_transaction(\n"
     ]
    },
    {
     "name": "stdout",
     "output_type": "stream",
     "text": [
      "Node already exists: ML Model(Rouge NF Detector) in ['usecase_xyz']\n",
      "ignoring ...\n"
     ]
    },
    {
     "name": "stderr",
     "output_type": "stream",
     "text": [
      "C:\\Users\\z001msvk\\AppData\\Local\\Temp/ipykernel_1712/3710171366.py:15: DeprecationWarning: read_transaction has been renamed to execute_read\n",
      "  node_already_exists = session.read_transaction(\n",
      "C:\\Users\\z001msvk\\AppData\\Local\\Temp/ipykernel_1712/3710171366.py:19: DeprecationWarning: write_transaction has been renamed to execute_write\n",
      "  result = session.write_transaction(\n"
     ]
    },
    {
     "name": "stdout",
     "output_type": "stream",
     "text": [
      "Created node: ML Model(Auto NF Approver)\n"
     ]
    },
    {
     "name": "stderr",
     "output_type": "stream",
     "text": [
      "C:\\Users\\z001msvk\\AppData\\Local\\Temp/ipykernel_1712/3710171366.py:124: DeprecationWarning: read_transaction has been renamed to execute_read\n",
      "  this_rel_already_exists = session.read_transaction(\n",
      "C:\\Users\\z001msvk\\AppData\\Local\\Temp/ipykernel_1712/3710171366.py:133: DeprecationWarning: write_transaction has been renamed to execute_write\n",
      "  result3 = session.write_transaction(\n"
     ]
    },
    {
     "name": "stdout",
     "output_type": "stream",
     "text": [
      "Created relation: ML Model(Rouge NF Detector) - process - ML Model(Auto NF Approver) in usecase_xyz\n"
     ]
    },
    {
     "name": "stderr",
     "output_type": "stream",
     "text": [
      "C:\\Users\\z001msvk\\AppData\\Local\\Temp/ipykernel_1712/3710171366.py:15: DeprecationWarning: read_transaction has been renamed to execute_read\n",
      "  node_already_exists = session.read_transaction(\n"
     ]
    },
    {
     "name": "stdout",
     "output_type": "stream",
     "text": [
      "Node already exists: ML Model(Rouge NF Detector) in ['usecase_xyz']\n",
      "ignoring ...\n"
     ]
    },
    {
     "name": "stderr",
     "output_type": "stream",
     "text": [
      "C:\\Users\\z001msvk\\AppData\\Local\\Temp/ipykernel_1712/3710171366.py:15: DeprecationWarning: read_transaction has been renamed to execute_read\n",
      "  node_already_exists = session.read_transaction(\n"
     ]
    },
    {
     "name": "stdout",
     "output_type": "stream",
     "text": [
      "Node already exists: Rouge NF in ['usecase_xyz']\n",
      "ignoring ...\n"
     ]
    },
    {
     "name": "stderr",
     "output_type": "stream",
     "text": [
      "C:\\Users\\z001msvk\\AppData\\Local\\Temp/ipykernel_1712/3710171366.py:124: DeprecationWarning: read_transaction has been renamed to execute_read\n",
      "  this_rel_already_exists = session.read_transaction(\n",
      "C:\\Users\\z001msvk\\AppData\\Local\\Temp/ipykernel_1712/3710171366.py:133: DeprecationWarning: write_transaction has been renamed to execute_write\n",
      "  result3 = session.write_transaction(\n"
     ]
    },
    {
     "name": "stdout",
     "output_type": "stream",
     "text": [
      "Created relation: ML Model(Rouge NF Detector) - produces - Rouge NF in usecase_xyz\n"
     ]
    },
    {
     "name": "stderr",
     "output_type": "stream",
     "text": [
      "C:\\Users\\z001msvk\\AppData\\Local\\Temp/ipykernel_1712/3710171366.py:15: DeprecationWarning: read_transaction has been renamed to execute_read\n",
      "  node_already_exists = session.read_transaction(\n"
     ]
    },
    {
     "name": "stdout",
     "output_type": "stream",
     "text": [
      "Node already exists: ML Model(Auto NF Approver) in ['usecase_xyz']\n",
      "ignoring ...\n"
     ]
    },
    {
     "name": "stderr",
     "output_type": "stream",
     "text": [
      "C:\\Users\\z001msvk\\AppData\\Local\\Temp/ipykernel_1712/3710171366.py:15: DeprecationWarning: read_transaction has been renamed to execute_read\n",
      "  node_already_exists = session.read_transaction(\n"
     ]
    },
    {
     "name": "stdout",
     "output_type": "stream",
     "text": [
      "Node already exists: Rouge NF in ['usecase_xyz']\n",
      "ignoring ...\n"
     ]
    },
    {
     "name": "stderr",
     "output_type": "stream",
     "text": [
      "C:\\Users\\z001msvk\\AppData\\Local\\Temp/ipykernel_1712/3710171366.py:124: DeprecationWarning: read_transaction has been renamed to execute_read\n",
      "  this_rel_already_exists = session.read_transaction(\n",
      "C:\\Users\\z001msvk\\AppData\\Local\\Temp/ipykernel_1712/3710171366.py:133: DeprecationWarning: write_transaction has been renamed to execute_write\n",
      "  result3 = session.write_transaction(\n"
     ]
    },
    {
     "name": "stdout",
     "output_type": "stream",
     "text": [
      "Created relation: ML Model(Auto NF Approver) - uses - Rouge NF in usecase_xyz\n"
     ]
    },
    {
     "name": "stderr",
     "output_type": "stream",
     "text": [
      "C:\\Users\\z001msvk\\AppData\\Local\\Temp/ipykernel_1712/3710171366.py:15: DeprecationWarning: read_transaction has been renamed to execute_read\n",
      "  node_already_exists = session.read_transaction(\n"
     ]
    },
    {
     "name": "stdout",
     "output_type": "stream",
     "text": [
      "Node already exists: ML Model(Auto NF Approver) in ['usecase_xyz']\n",
      "ignoring ...\n"
     ]
    },
    {
     "name": "stderr",
     "output_type": "stream",
     "text": [
      "C:\\Users\\z001msvk\\AppData\\Local\\Temp/ipykernel_1712/3710171366.py:15: DeprecationWarning: read_transaction has been renamed to execute_read\n",
      "  node_already_exists = session.read_transaction(\n",
      "C:\\Users\\z001msvk\\AppData\\Local\\Temp/ipykernel_1712/3710171366.py:19: DeprecationWarning: write_transaction has been renamed to execute_write\n",
      "  result = session.write_transaction(\n"
     ]
    },
    {
     "name": "stdout",
     "output_type": "stream",
     "text": [
      "Created node: Approved NF\n"
     ]
    },
    {
     "name": "stderr",
     "output_type": "stream",
     "text": [
      "C:\\Users\\z001msvk\\AppData\\Local\\Temp/ipykernel_1712/3710171366.py:124: DeprecationWarning: read_transaction has been renamed to execute_read\n",
      "  this_rel_already_exists = session.read_transaction(\n",
      "C:\\Users\\z001msvk\\AppData\\Local\\Temp/ipykernel_1712/3710171366.py:133: DeprecationWarning: write_transaction has been renamed to execute_write\n",
      "  result3 = session.write_transaction(\n"
     ]
    },
    {
     "name": "stdout",
     "output_type": "stream",
     "text": [
      "Created relation: ML Model(Auto NF Approver) - infer - Approved NF in usecase_xyz\n"
     ]
    },
    {
     "name": "stderr",
     "output_type": "stream",
     "text": [
      "C:\\Users\\z001msvk\\AppData\\Local\\Temp/ipykernel_1712/3710171366.py:15: DeprecationWarning: read_transaction has been renamed to execute_read\n",
      "  node_already_exists = session.read_transaction(\n"
     ]
    },
    {
     "name": "stdout",
     "output_type": "stream",
     "text": [
      "Node already exists: ML Model(Auto NF Approver) in ['usecase_xyz']\n",
      "ignoring ...\n"
     ]
    },
    {
     "name": "stderr",
     "output_type": "stream",
     "text": [
      "C:\\Users\\z001msvk\\AppData\\Local\\Temp/ipykernel_1712/3710171366.py:15: DeprecationWarning: read_transaction has been renamed to execute_read\n",
      "  node_already_exists = session.read_transaction(\n"
     ]
    },
    {
     "name": "stdout",
     "output_type": "stream",
     "text": [
      "Node already exists: NF Selector in ['usecase_xyz']\n",
      "ignoring ...\n"
     ]
    },
    {
     "name": "stderr",
     "output_type": "stream",
     "text": [
      "C:\\Users\\z001msvk\\AppData\\Local\\Temp/ipykernel_1712/3710171366.py:124: DeprecationWarning: read_transaction has been renamed to execute_read\n",
      "  this_rel_already_exists = session.read_transaction(\n",
      "C:\\Users\\z001msvk\\AppData\\Local\\Temp/ipykernel_1712/3710171366.py:133: DeprecationWarning: write_transaction has been renamed to execute_write\n",
      "  result3 = session.write_transaction(\n"
     ]
    },
    {
     "name": "stdout",
     "output_type": "stream",
     "text": [
      "Created relation: ML Model(Auto NF Approver) - process - NF Selector in usecase_xyz\n"
     ]
    },
    {
     "name": "stderr",
     "output_type": "stream",
     "text": [
      "C:\\Users\\z001msvk\\AppData\\Local\\Temp/ipykernel_1712/3710171366.py:15: DeprecationWarning: read_transaction has been renamed to execute_read\n",
      "  node_already_exists = session.read_transaction(\n"
     ]
    },
    {
     "name": "stdout",
     "output_type": "stream",
     "text": [
      "Node already exists: ML Model(KPI Forecaster) in ['usecase_xyz']\n",
      "ignoring ...\n"
     ]
    },
    {
     "name": "stderr",
     "output_type": "stream",
     "text": [
      "C:\\Users\\z001msvk\\AppData\\Local\\Temp/ipykernel_1712/3710171366.py:15: DeprecationWarning: read_transaction has been renamed to execute_read\n",
      "  node_already_exists = session.read_transaction(\n",
      "C:\\Users\\z001msvk\\AppData\\Local\\Temp/ipykernel_1712/3710171366.py:19: DeprecationWarning: write_transaction has been renamed to execute_write\n",
      "  result = session.write_transaction(\n"
     ]
    },
    {
     "name": "stdout",
     "output_type": "stream",
     "text": [
      "Created node: Retraining\n"
     ]
    },
    {
     "name": "stderr",
     "output_type": "stream",
     "text": [
      "C:\\Users\\z001msvk\\AppData\\Local\\Temp/ipykernel_1712/3710171366.py:124: DeprecationWarning: read_transaction has been renamed to execute_read\n",
      "  this_rel_already_exists = session.read_transaction(\n",
      "C:\\Users\\z001msvk\\AppData\\Local\\Temp/ipykernel_1712/3710171366.py:133: DeprecationWarning: write_transaction has been renamed to execute_write\n",
      "  result3 = session.write_transaction(\n"
     ]
    },
    {
     "name": "stdout",
     "output_type": "stream",
     "text": [
      "Created relation: ML Model(KPI Forecaster) - requires - Retraining in usecase_xyz\n"
     ]
    },
    {
     "name": "stderr",
     "output_type": "stream",
     "text": [
      "C:\\Users\\z001msvk\\AppData\\Local\\Temp/ipykernel_1712/3710171366.py:15: DeprecationWarning: read_transaction has been renamed to execute_read\n",
      "  node_already_exists = session.read_transaction(\n"
     ]
    },
    {
     "name": "stdout",
     "output_type": "stream",
     "text": [
      "Node already exists: ML Model(KPI Anomaly Detector) in ['usecase_xyz']\n",
      "ignoring ...\n"
     ]
    },
    {
     "name": "stderr",
     "output_type": "stream",
     "text": [
      "C:\\Users\\z001msvk\\AppData\\Local\\Temp/ipykernel_1712/3710171366.py:15: DeprecationWarning: read_transaction has been renamed to execute_read\n",
      "  node_already_exists = session.read_transaction(\n"
     ]
    },
    {
     "name": "stdout",
     "output_type": "stream",
     "text": [
      "Node already exists: Retraining in ['usecase_xyz']\n",
      "ignoring ...\n"
     ]
    },
    {
     "name": "stderr",
     "output_type": "stream",
     "text": [
      "C:\\Users\\z001msvk\\AppData\\Local\\Temp/ipykernel_1712/3710171366.py:124: DeprecationWarning: read_transaction has been renamed to execute_read\n",
      "  this_rel_already_exists = session.read_transaction(\n",
      "C:\\Users\\z001msvk\\AppData\\Local\\Temp/ipykernel_1712/3710171366.py:133: DeprecationWarning: write_transaction has been renamed to execute_write\n",
      "  result3 = session.write_transaction(\n"
     ]
    },
    {
     "name": "stdout",
     "output_type": "stream",
     "text": [
      "Created relation: ML Model(KPI Anomaly Detector) - requires - Retraining in usecase_xyz\n"
     ]
    },
    {
     "name": "stderr",
     "output_type": "stream",
     "text": [
      "C:\\Users\\z001msvk\\AppData\\Local\\Temp/ipykernel_1712/3710171366.py:15: DeprecationWarning: read_transaction has been renamed to execute_read\n",
      "  node_already_exists = session.read_transaction(\n"
     ]
    },
    {
     "name": "stdout",
     "output_type": "stream",
     "text": [
      "Node already exists: ML Model(Rouge NF Detector) in ['usecase_xyz']\n",
      "ignoring ...\n"
     ]
    },
    {
     "name": "stderr",
     "output_type": "stream",
     "text": [
      "C:\\Users\\z001msvk\\AppData\\Local\\Temp/ipykernel_1712/3710171366.py:15: DeprecationWarning: read_transaction has been renamed to execute_read\n",
      "  node_already_exists = session.read_transaction(\n"
     ]
    },
    {
     "name": "stdout",
     "output_type": "stream",
     "text": [
      "Node already exists: Retraining in ['usecase_xyz']\n",
      "ignoring ...\n"
     ]
    },
    {
     "name": "stderr",
     "output_type": "stream",
     "text": [
      "C:\\Users\\z001msvk\\AppData\\Local\\Temp/ipykernel_1712/3710171366.py:124: DeprecationWarning: read_transaction has been renamed to execute_read\n",
      "  this_rel_already_exists = session.read_transaction(\n",
      "C:\\Users\\z001msvk\\AppData\\Local\\Temp/ipykernel_1712/3710171366.py:133: DeprecationWarning: write_transaction has been renamed to execute_write\n",
      "  result3 = session.write_transaction(\n"
     ]
    },
    {
     "name": "stdout",
     "output_type": "stream",
     "text": [
      "Created relation: ML Model(Rouge NF Detector) - requires - Retraining in usecase_xyz\n"
     ]
    },
    {
     "name": "stderr",
     "output_type": "stream",
     "text": [
      "C:\\Users\\z001msvk\\AppData\\Local\\Temp/ipykernel_1712/3710171366.py:15: DeprecationWarning: read_transaction has been renamed to execute_read\n",
      "  node_already_exists = session.read_transaction(\n"
     ]
    },
    {
     "name": "stdout",
     "output_type": "stream",
     "text": [
      "Node already exists: ML Model(Auto NF Approver) in ['usecase_xyz']\n",
      "ignoring ...\n"
     ]
    },
    {
     "name": "stderr",
     "output_type": "stream",
     "text": [
      "C:\\Users\\z001msvk\\AppData\\Local\\Temp/ipykernel_1712/3710171366.py:15: DeprecationWarning: read_transaction has been renamed to execute_read\n",
      "  node_already_exists = session.read_transaction(\n"
     ]
    },
    {
     "name": "stdout",
     "output_type": "stream",
     "text": [
      "Node already exists: Retraining in ['usecase_xyz']\n",
      "ignoring ...\n"
     ]
    },
    {
     "name": "stderr",
     "output_type": "stream",
     "text": [
      "C:\\Users\\z001msvk\\AppData\\Local\\Temp/ipykernel_1712/3710171366.py:124: DeprecationWarning: read_transaction has been renamed to execute_read\n",
      "  this_rel_already_exists = session.read_transaction(\n",
      "C:\\Users\\z001msvk\\AppData\\Local\\Temp/ipykernel_1712/3710171366.py:133: DeprecationWarning: write_transaction has been renamed to execute_write\n",
      "  result3 = session.write_transaction(\n"
     ]
    },
    {
     "name": "stdout",
     "output_type": "stream",
     "text": [
      "Created relation: ML Model(Auto NF Approver) - requires - Retraining in usecase_xyz\n"
     ]
    },
    {
     "name": "stderr",
     "output_type": "stream",
     "text": [
      "C:\\Users\\z001msvk\\AppData\\Local\\Temp/ipykernel_1712/3710171366.py:15: DeprecationWarning: read_transaction has been renamed to execute_read\n",
      "  node_already_exists = session.read_transaction(\n"
     ]
    },
    {
     "name": "stdout",
     "output_type": "stream",
     "text": [
      "Node already exists: Retraining in ['usecase_xyz']\n",
      "ignoring ...\n"
     ]
    },
    {
     "name": "stderr",
     "output_type": "stream",
     "text": [
      "C:\\Users\\z001msvk\\AppData\\Local\\Temp/ipykernel_1712/3710171366.py:15: DeprecationWarning: read_transaction has been renamed to execute_read\n",
      "  node_already_exists = session.read_transaction(\n",
      "C:\\Users\\z001msvk\\AppData\\Local\\Temp/ipykernel_1712/3710171366.py:19: DeprecationWarning: write_transaction has been renamed to execute_write\n",
      "  result = session.write_transaction(\n"
     ]
    },
    {
     "name": "stdout",
     "output_type": "stream",
     "text": [
      "Created node: Scheduler\n"
     ]
    },
    {
     "name": "stderr",
     "output_type": "stream",
     "text": [
      "C:\\Users\\z001msvk\\AppData\\Local\\Temp/ipykernel_1712/3710171366.py:124: DeprecationWarning: read_transaction has been renamed to execute_read\n",
      "  this_rel_already_exists = session.read_transaction(\n",
      "C:\\Users\\z001msvk\\AppData\\Local\\Temp/ipykernel_1712/3710171366.py:133: DeprecationWarning: write_transaction has been renamed to execute_write\n",
      "  result3 = session.write_transaction(\n"
     ]
    },
    {
     "name": "stdout",
     "output_type": "stream",
     "text": [
      "Created relation: Retraining - uses - Scheduler in usecase_xyz\n"
     ]
    }
   ],
   "source": [
    "app.create_actors_relationship_with_usecase(\"NF Selector\", \"reads\", \"EMS\", \"usecase_xyz\")\n",
    "app.create_actors_relationship_with_usecase(\"NF Selector\", \"process\", \"KPI Fetcher\", \"usecase_xyz\")\n",
    "app.create_actors_relationship_with_usecase(\"NF Selector\", \"produces\", \"Filtered NF List\", \"usecase_xyz\")\n",
    "app.create_actors_relationship_with_usecase(\"KPI Fetcher\", \"uses\", \"Filtered NF List\", \"usecase_xyz\")\n",
    "app.create_actors_relationship_with_usecase(\"KPI Fetcher\", \"writes\", \"KPI Data Store\", \"usecase_xyz\")\n",
    "app.create_actors_relationship_with_usecase(\"KPI Pre-processor\", \"reads\", \"KPI Data Store\", \"usecase_xyz\")\n",
    "app.create_actors_relationship_with_usecase(\"KPI Pre-processor\", \"process\", \"ML Model(KPI Forecaster)\", \"usecase_xyz\")\n",
    "app.create_actors_relationship_with_usecase(\"KPI Pre-processor\", \"produces\", \"Processed KPI Data\", \"usecase_xyz\")\n",
    "app.create_actors_relationship_with_usecase(\"ML Model(KPI Forecaster)\", \"uses\", \"Processed KPI Data\", \"usecase_xyz\")\n",
    "app.create_actors_relationship_with_usecase(\"ML Model(KPI Forecaster)\", \"infer\", \"KPI Forecasts\", \"usecase_xyz\")\n",
    "app.create_actors_relationship_with_usecase(\"ML Model(KPI Forecaster)\", \"process\", \"ML Model(KPI Anomaly Detector)\", \"usecase_xyz\")\n",
    "app.create_actors_relationship_with_usecase(\"ML Model(KPI Forecaster)\", \"produces\", \"KPI Forecasts\", \"usecase_xyz\")\n",
    "app.create_actors_relationship_with_usecase(\"ML Model(KPI Anomaly Detector)\", \"uses\", \"KPI Forecasts\", \"usecase_xyz\")\n",
    "app.create_actors_relationship_with_usecase(\"ML Model(KPI Anomaly Detector)\", \"infer\", \"KPI Anomolous Forecasts\", \"usecase_xyz\")\n",
    "app.create_actors_relationship_with_usecase(\"ML Model(KPI Anomaly Detector)\", \"process\", \"ML Model(Rouge NF Detector)\", \"usecase_xyz\")\n",
    "app.create_actors_relationship_with_usecase(\"ML Model(KPI Anomaly Detector)\", \"produces\", \"KPI Anomolous Forecasts\", \"usecase_xyz\")\n",
    "app.create_actors_relationship_with_usecase(\"ML Model(Rouge NF Detector)\", \"uses\", \"KPI Anomolous Forecasts\", \"usecase_xyz\")\n",
    "app.create_actors_relationship_with_usecase(\"ML Model(Rouge NF Detector)\", \"infer\", \"Rouge NF\", \"usecase_xyz\")\n",
    "app.create_actors_relationship_with_usecase(\"ML Model(Rouge NF Detector)\", \"process\", \"ML Model(Auto NF Approver)\", \"usecase_xyz\")\n",
    "app.create_actors_relationship_with_usecase(\"ML Model(Rouge NF Detector)\", \"produces\", \"Rouge NF\", \"usecase_xyz\")\n",
    "app.create_actors_relationship_with_usecase(\"ML Model(Auto NF Approver)\", \"uses\", \"Rouge NF\", \"usecase_xyz\")\n",
    "app.create_actors_relationship_with_usecase(\"ML Model(Auto NF Approver)\", \"infer\", \"Approved NF\", \"usecase_xyz\")\n",
    "app.create_actors_relationship_with_usecase(\"ML Model(Auto NF Approver)\", \"process\", \"NF Selector\", \"usecase_xyz\")\n",
    "app.create_actors_relationship_with_usecase(\"ML Model(KPI Forecaster)\", \"requires\", \"Retraining\", \"usecase_xyz\")\n",
    "app.create_actors_relationship_with_usecase(\"ML Model(KPI Anomaly Detector)\", \"requires\", \"Retraining\", \"usecase_xyz\")\n",
    "app.create_actors_relationship_with_usecase(\"ML Model(Rouge NF Detector)\", \"requires\", \"Retraining\", \"usecase_xyz\")\n",
    "app.create_actors_relationship_with_usecase(\"ML Model(Auto NF Approver)\", \"requires\", \"Retraining\", \"usecase_xyz\")\n",
    "app.create_actors_relationship_with_usecase(\"Retraining\", \"uses\", \"Scheduler\", \"usecase_xyz\")"
   ]
  }
 ],
 "metadata": {
  "kernelspec": {
   "display_name": "Python 3 (ipykernel)",
   "language": "python",
   "name": "python3"
  },
  "language_info": {
   "codemirror_mode": {
    "name": "ipython",
    "version": 3
   },
   "file_extension": ".py",
   "mimetype": "text/x-python",
   "name": "python",
   "nbconvert_exporter": "python",
   "pygments_lexer": "ipython3",
   "version": "3.9.7"
  }
 },
 "nbformat": 4,
 "nbformat_minor": 5
}
